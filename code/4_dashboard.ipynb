{
 "cells": [
  {
   "cell_type": "markdown",
   "metadata": {},
   "source": [
    "### Let's do this:\n",
    "\n",
    "5 Dashboard & Experiment Setup\n",
    "5.1 Power BI “Pulse” dashboard\n",
    "// Connect processed dataset → show Booking Rate, Rev/PAX,\n",
    "// Recommended vs Actual price, time-series filters.\n",
    "// p-value tiles, cumulative uplift chart; e-mail alert at p<0.1\n",
    "\n",
    "5.2 A/B experiment design\n",
    "// Randomly assign 50 % slots to Optimised price_version, 50 % control\n",
    "// Compute required sample size (α = 0.05, power = 0.8)\n",
    "// Document metrics: revenue, occupancy, booking_prob uplift\n",
    "\n",
    "5.3 Tag booking platform (sql)\n",
    " -- Add price_version column to reservation records\n",
    " -- Ensure export view joins recommended_prices on (venue, datetime)\n",
    "\n"
   ]
  }
 ],
 "metadata": {
  "language_info": {
   "name": "python"
  }
 },
 "nbformat": 4,
 "nbformat_minor": 2
}
