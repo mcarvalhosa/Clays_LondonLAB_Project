{
 "cells": [
  {
   "cell_type": "markdown",
   "metadata": {},
   "source": [
    "### Let's do this:\n",
    "\n",
    "4 Revenue Optimisation with Gurobi\n",
    "4.1 Model formulation\n",
    "Define decision variable p_vh = chosen price for venue v, hour h\n",
    "Objective: maximise Σ expected_revenue(v,h,p_vh)\n",
    "Constraints:\n",
    "   – capacity: expected_bookings ≤ slot_capacity\n",
    "   – price bounds: min_price ≤ p_vh ≤ max_price\n",
    "   – smoothness: |p_{h} − p_{h−1}| ≤ £δ\n",
    "   – mandatory package flags if required\n",
    "\n",
    "4.2 Solve optimisation horizon\n",
    "Solve for next 28 days, 3 venues\n",
    "Runtime target < 30 s\n",
    "Export recommended_prices.csv [venue, datetime, price]\n",
    "\n",
    "4.3 Stress tests\n",
    "Re-run optimiser with ±10 % demand curve to test robustness\n",
    "Update model.pkl after retraining LightGBM on fresh data (up to when Luke sent?)\n",
    "Record revenue deltas and constraint violations\n",
    "\n",
    "// Check price jumps, margins; flag any >£5 hour-to-hour changes\n",
    "\n"
   ]
  }
 ],
 "metadata": {
  "language_info": {
   "name": "python"
  }
 },
 "nbformat": 4,
 "nbformat_minor": 2
}
